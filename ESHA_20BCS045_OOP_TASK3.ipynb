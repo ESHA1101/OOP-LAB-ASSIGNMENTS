{
  "nbformat": 4,
  "nbformat_minor": 0,
  "metadata": {
    "colab": {
      "name": "ESHA_20BCS045_OOP_TASK3",
      "provenance": [],
      "authorship_tag": "ABX9TyNSTpPZEA/cwNyBXUohl10Z",
      "include_colab_link": true
    },
    "kernelspec": {
      "name": "python3",
      "display_name": "Python 3"
    },
    "language_info": {
      "name": "python"
    }
  },
  "cells": [
    {
      "cell_type": "markdown",
      "metadata": {
        "id": "view-in-github",
        "colab_type": "text"
      },
      "source": [
        "<a href=\"https://colab.research.google.com/github/ESHA1101/OOP-LAB-ASSIGNMENTS/blob/main/ESHA_20BCS045_OOP_TASK3.ipynb\" target=\"_parent\"><img src=\"https://colab.research.google.com/assets/colab-badge.svg\" alt=\"Open In Colab\"/></a>"
      ]
    },
    {
      "cell_type": "code",
      "metadata": {
        "colab": {
          "base_uri": "https://localhost:8080/"
        },
        "id": "T9JchGKAKO5L",
        "outputId": "ccc1284d-138d-4808-d21f-302318cc6f70"
      },
      "source": [
        "#QUESTION-1\n",
        "class student:\n",
        "    def __init__(self,name,regno,age,gender,branch,sem):\n",
        "        self.name=name\n",
        "        self.regno=regno\n",
        "        self.age=age\n",
        "        self.gender=gender\n",
        "        self.branch=branch\n",
        "        self.sem=sem\n",
        "\n",
        "    def display(self):\n",
        "        print(\"Name is:\",self.name,\"\\nAge is:\",self.age,\"\\nReg no:\",self.regno,\"\\nBranch:\",self.branch,\"\\nSem:\",self.sem)\n",
        "\n",
        "class studentinfo(student):\n",
        "    def __init__(self,name_,regno_,age_,gender_,branch_,sem_):\n",
        "        student.__init__(self,name_,regno_,age_,gender_,branch_,sem_)\n",
        "        self.Totalmarks=500\n",
        "        self.Percentage=96\n",
        "        self.Grades=\"A\"\n",
        "    def view(self):\n",
        "       student.display(self)\n",
        "       print(\"Totalmarks:\",self.Totalmarks,\"\\nPercentage:\",self.Percentage,\"\\nGrade:\",self.Grades)\n",
        "name=input(\"Enter name:\")\n",
        "regno=int(input(\"Enter regno:\"))\n",
        "age=int(input(\"Enter age:\"))\n",
        "gender=input(\"Enter Gender:\")\n",
        "branch=input(\"Enter branch:\")\n",
        "sem=int(input(\"Enter Sem:\"))\n",
        "\n",
        "studentdata=studentinfo(name,regno,age,gender,branch,sem)\n",
        "studentdata.view()"
      ],
      "execution_count": 2,
      "outputs": [
        {
          "output_type": "stream",
          "name": "stdout",
          "text": [
            "Enter name:ESHA\n",
            "Enter regno:507465\n",
            "Enter age:18\n",
            "Enter Gender:FEMALE\n",
            "Enter branch:CSE\n",
            "Enter Sem:3\n",
            "Name is: ESHA \n",
            "Age is: 18 \n",
            "Reg no: 507465 \n",
            "Branch: CSE \n",
            "Sem: 3\n",
            "Totalmarks: 500 \n",
            "Percentage: 96 \n",
            "Grade: A\n"
          ]
        }
      ]
    },
    {
      "cell_type": "code",
      "metadata": {
        "colab": {
          "base_uri": "https://localhost:8080/"
        },
        "id": "OapLttniLhsN",
        "outputId": "cca763bc-ef14-443a-d9a0-5279d97e96e6"
      },
      "source": [
        "#QUESTION-2\n",
        "class PDF:\n",
        "  def __init__(self, creator, description, size):\n",
        "    self.creator = creator\n",
        "    self.description = description\n",
        "    self.size = size\n",
        "\n",
        "  def display(self):\n",
        "    print(\"Created by:\",self.creator)\n",
        "    print(\"Description:\", self.description)\n",
        "    print(\"File size (in KBs):\", self.size)\n",
        "\n",
        "  def sizeLimit(self):\n",
        "    if self.size > 512:           \n",
        "      print(\"Size exceeds threshold.\\n\")\n",
        "    else:\n",
        "      print(\"Size is within the threshold.\\n\")\n",
        "\n",
        "class Pictures(PDF):\n",
        "  def __init__(self, creator, description, size, dimension):\n",
        "    super().__init__(creator, description, size)\n",
        "    self.dimension = dimension\n",
        "\n",
        "  def displayPic(self):\n",
        "    self.display()\n",
        "    print(\"Dimensions (in pixels):\", self.dimension)\n",
        "\n",
        "  def dimensionLimit(self):\n",
        "    if self.dimension>2000:\n",
        "      print(\" high dimension!\\n\")\n",
        "    else:\n",
        "      print(\" dimensions are fine.\\n\")\n",
        "      \n",
        "pdf1 = PDF(\"RIYA\", \"ASSIGNMENT\", 21.3)\n",
        "pdf1.display()\n",
        "pdf1.sizeLimit()\n",
        "print()\n",
        "img = Pictures(\"AANYA\", \"MOON\", 3333, 456)\n",
        "img.displayPic()\n",
        "img.dimensionLimit()"
      ],
      "execution_count": 4,
      "outputs": [
        {
          "output_type": "stream",
          "name": "stdout",
          "text": [
            "Created by: RIYA\n",
            "Description: ASSIGNMENT\n",
            "File size (in KBs): 21.3\n",
            "Size is within the threshold.\n",
            "\n",
            "\n",
            "Created by: AANYA\n",
            "Description: MOON\n",
            "File size (in KBs): 3333\n",
            "Dimensions (in pixels): 456\n",
            " dimensions are fine.\n",
            "\n"
          ]
        }
      ]
    },
    {
      "cell_type": "code",
      "metadata": {
        "colab": {
          "base_uri": "https://localhost:8080/"
        },
        "id": "bcL9gJXlO1Bv",
        "outputId": "171026b7-3134-40db-8588-ba7e51ade877"
      },
      "source": [
        "#QUESTION-3\n",
        "class Vehicle:\n",
        "  def __init__(self, name, mileage, capacity):\n",
        "    self.name = name\n",
        "    self.mileage = mileage\n",
        "    self.capacity = capacity\n",
        "\n",
        "  def fare(self):\n",
        "    print(\"Fare is:\", self.capacity*100)\n",
        "    return self.capacity*100\n",
        "\n",
        "class Bus:\n",
        "  def __init__(self, name, mileage, capacity):\n",
        "    Vehicle.__init__(self, name, mileage, capacity)\n",
        "\n",
        "  def fare(self):\n",
        "    fee = Vehicle.fare(self)\n",
        "    maintenance = 0.1 * fee\n",
        "    print(\"Maintenance Fee is:\", maintenance)\n",
        "    print(\"Total fare is:\", fee + maintenance)\n",
        "    \n",
        "\n",
        "APSRTC = Bus(\"JANANI\", 30, 50)\n",
        "APSRTC.fare()"
      ],
      "execution_count": 7,
      "outputs": [
        {
          "output_type": "stream",
          "name": "stdout",
          "text": [
            "Fare is: 5000\n",
            "Maintenance Fee is: 500.0\n",
            "Total fare is: 5500.0\n"
          ]
        }
      ]
    }
  ]
}