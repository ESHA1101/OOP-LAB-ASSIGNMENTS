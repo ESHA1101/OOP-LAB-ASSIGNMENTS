{
  "nbformat": 4,
  "nbformat_minor": 0,
  "metadata": {
    "colab": {
      "name": "ESHA_20BCS045_OOP_TASK2",
      "provenance": [],
      "authorship_tag": "ABX9TyNeBidUFzBJ/9k1ndHSA4lG",
      "include_colab_link": true
    },
    "kernelspec": {
      "name": "python3",
      "display_name": "Python 3"
    },
    "language_info": {
      "name": "python"
    }
  },
  "cells": [
    {
      "cell_type": "markdown",
      "metadata": {
        "id": "view-in-github",
        "colab_type": "text"
      },
      "source": [
        "<a href=\"https://colab.research.google.com/github/ESHA1101/OOP-LAB-ASSIGNMENTS/blob/main/ESHA_20BCS045_OOP_TASK2.ipynb\" target=\"_parent\"><img src=\"https://colab.research.google.com/assets/colab-badge.svg\" alt=\"Open In Colab\"/></a>"
      ]
    },
    {
      "cell_type": "code",
      "metadata": {
        "id": "dP_fUBaJ1lQg",
        "colab": {
          "base_uri": "https://localhost:8080/"
        },
        "outputId": "859bf7fa-88d6-41e5-b5a3-b5c30e562437"
      },
      "source": [
        "import numpy as np\n",
        "class Circle:\n",
        "  def __init__(self,radius):\n",
        "    self.radius=radius\n",
        "  def Perimeter(self):\n",
        "    return 2*np.pi*self.radius\n",
        "  def Area(self):\n",
        "    return np.pi*(self.radius)**2\n",
        "r=int(input('Enter the radius:'))\n",
        "circle=Circle(r)\n",
        "print('The perimeter=',circle.Perimeter())\n",
        "print('Area:',circle.Area())"
      ],
      "execution_count": 2,
      "outputs": [
        {
          "output_type": "stream",
          "name": "stdout",
          "text": [
            "Enter the radius:4\n",
            "The perimeter= 25.132741228718345\n",
            "Area: 50.26548245743669\n"
          ]
        }
      ]
    },
    {
      "cell_type": "code",
      "metadata": {
        "colab": {
          "base_uri": "https://localhost:8080/"
        },
        "id": "oVw_tfUgyWzv",
        "outputId": "3a6f0d67-ab62-4e42-c18d-989192e06057"
      },
      "source": [
        "class data:\n",
        "  def __init__(self,Name, EmpID, Branch, Salary): \n",
        "    self.Name=Name\n",
        "    self.EmpID=EmpID\n",
        "    self.Branch=Branch\n",
        "    self.Salary=Salary\n",
        "  def display(self):\n",
        "    print(\"Name:\", self.Name)\n",
        "    print(\"Emp ID:\", self.EmpID)\n",
        "    print(\"Branch:\", self.Branch)\n",
        "    print(\"Salary:\", self.Salary)\n",
        "teacher_list = []\n",
        "for i in range(5):\n",
        "  Name = str(input(\"\\nEnter the name: \"))\n",
        "  EmpID = str(input(\"Enter the Employee ID: \")) \n",
        "  Branch = str(input(\"Enter the branch: \"))\n",
        "  Salary = int(input(\"Enter the salary: \"))\n",
        "  teacher_list.append(data(Name, EmpID, Branch, Salary))\n",
        "\n",
        "for i in range(5):\n",
        "  teacher_list[i].display()\n",
        "\n"
      ],
      "execution_count": 9,
      "outputs": [
        {
          "output_type": "stream",
          "name": "stdout",
          "text": [
            "\n",
            "Enter the name: ESHA\n",
            "Enter the Employee ID: DFG\n",
            "Enter the branch: CSE\n",
            "Enter the salary: 60000\n",
            "\n",
            "Enter the name: RIYA\n",
            "Enter the Employee ID: GHK\n",
            "Enter the branch: ECE\n",
            "Enter the salary: 50000\n",
            "\n",
            "Enter the name: RAJ\n",
            "Enter the Employee ID: KOI\n",
            "Enter the branch: DSAI\n",
            "Enter the salary: 20000\n",
            "\n",
            "Enter the name: ARUN\n",
            "Enter the Employee ID: REW\n",
            "Enter the branch: CSE\n",
            "Enter the salary: 70000\n",
            "\n",
            "Enter the name: AANYA\n",
            "Enter the Employee ID: HYU\n",
            "Enter the branch: CSE\n",
            "Enter the salary: 90000\n",
            "Name: ESHA\n",
            "Emp ID: DFG\n",
            "Branch: CSE\n",
            "Salary: 60000\n",
            "Name: RIYA\n",
            "Emp ID: GHK\n",
            "Branch: ECE\n",
            "Salary: 50000\n",
            "Name: RAJ\n",
            "Emp ID: KOI\n",
            "Branch: DSAI\n",
            "Salary: 20000\n",
            "Name: ARUN\n",
            "Emp ID: REW\n",
            "Branch: CSE\n",
            "Salary: 70000\n",
            "Name: AANYA\n",
            "Emp ID: HYU\n",
            "Branch: CSE\n",
            "Salary: 90000\n"
          ]
        }
      ]
    },
    {
      "cell_type": "code",
      "metadata": {
        "colab": {
          "base_uri": "https://localhost:8080/"
        },
        "id": "M_utCVkpEVto",
        "outputId": "ca91aca5-14a7-4ccb-df5e-181c8a260cc7"
      },
      "source": [
        "class account:\n",
        "  def __init__(self, Name, Acc_No, Deposit):\n",
        "    self.accNumber = Acc_No\n",
        "    self.Name = Name\n",
        "    self.Savings = Deposit\n",
        "\n",
        "  def Deposit(self, amount):\n",
        "    self.Savings += amount\n",
        "    print(f\"Rs {amount} has been deposited\")\n",
        "    print(f\"current savings: {self.Savings}\\n\")\n",
        "\n",
        "  def Withdraw(self, amount):\n",
        "    if (amount > self.Savings):\n",
        "      print(\"Insufficient savings\")\n",
        "    else:\n",
        "      self.Savings -= amount\n",
        "      print(f\"Rs {amount} has been withdrawn\")\n",
        "      print(f\"current savings: {self.Savings}\")\n",
        "\n",
        "  def check_balance(self):\n",
        "    print(f\"current savings: {self.Savings}\")\n",
        "\n",
        "  def displayAccount(self):\n",
        "    print(\"Name:\", self.Name)\n",
        "    print(\"Account Number\", self.accNumber)\n",
        "    print(f\"current savings: {self.Savings}\")\n",
        "\n",
        "name = str(input(\"Enter your name: \"))\n",
        "acc_no = int(input(\"Enter the account number: \"))\n",
        "deposit = int(input(\"Enter the initial balance: \"))\n",
        "User_acc = account(name, acc_no, deposit)\n",
        "\n",
        "while True:\n",
        "  choice = int(input(\"Select an option:\\n1. Deposit\\n2. Withdraw\\n3. Check Balance\\n4. Display Account\\n5. Exit\\n\"))\n",
        "  if choice == 1:\n",
        "    amount = int(input(\"Enter the amount to deposit: \"))\n",
        "    User_acc.Deposit(amount)\n",
        "  elif choice == 2:\n",
        "    amount = int(input(\"Enter the amount to withdraw: \"))\n",
        "    User_acc.Withdraw(amount)\n",
        "  elif choice == 3:\n",
        "    User_acc.check_balance()\n",
        "  elif choice == 4:\n",
        "    User_acc.displayAccount()\n",
        "  elif choice == 5:\n",
        "    break\n",
        "  else:\n",
        "    print(\"enter a valid choice\")"
      ],
      "execution_count": 10,
      "outputs": [
        {
          "name": "stdout",
          "output_type": "stream",
          "text": [
            "Enter your name: ESHA\n",
            "Enter the account number: 45894500\n",
            "Enter the initial balance: 9000\n",
            "Select an option:\n",
            "1. Deposit\n",
            "2. Withdraw\n",
            "3. Check Balance\n",
            "4. Display Account\n",
            "5. Exit\n",
            "1\n",
            "Enter the amount to deposit: 3000\n",
            "Rs 3000 has been deposited\n",
            "current savings: 12000\n",
            "\n",
            "Select an option:\n",
            "1. Deposit\n",
            "2. Withdraw\n",
            "3. Check Balance\n",
            "4. Display Account\n",
            "5. Exit\n",
            "2\n",
            "Enter the amount to withdraw: 1000\n",
            "Rs 1000 has been withdrawn\n",
            "current savings: 11000\n",
            "Select an option:\n",
            "1. Deposit\n",
            "2. Withdraw\n",
            "3. Check Balance\n",
            "4. Display Account\n",
            "5. Exit\n",
            "3\n",
            "current savings: 11000\n",
            "Select an option:\n",
            "1. Deposit\n",
            "2. Withdraw\n",
            "3. Check Balance\n",
            "4. Display Account\n",
            "5. Exit\n",
            "4\n",
            "Name: ESHA\n",
            "Account Number 45894500\n",
            "current savings: 11000\n",
            "Select an option:\n",
            "1. Deposit\n",
            "2. Withdraw\n",
            "3. Check Balance\n",
            "4. Display Account\n",
            "5. Exit\n",
            "5\n"
          ]
        }
      ]
    },
    {
      "cell_type": "code",
      "metadata": {
        "colab": {
          "base_uri": "https://localhost:8080/"
        },
        "id": "_Q2L0aYnLOci",
        "outputId": "cf0c4609-a41b-4f4c-9e79-00ae22274f1c"
      },
      "source": [
        "class data:\n",
        "\n",
        "    def setData(self):\n",
        "        self.name = input(\"Enter the name of the student : \")\n",
        "        self.ID = int(input(\"Enter the USN of the student : \"))\n",
        "        self.marks = []\n",
        "        for i in range(1, 4):\n",
        "            marks = input(f\"Enter the marks for subject {i} : \")\n",
        "            self.marks.append(marks)\n",
        "\n",
        "    def getData(self):\n",
        "        print(\"Name : \",self.name)\n",
        "        print(\"USN : \",self.ID)\n",
        "        print(\"Marks Subject 1 : \",self.marks[0])\n",
        "        print(\"Marks Subject 2 :\", self.marks[1])\n",
        "        print(\"Marks Subject 3 :\", self.marks[2])\n",
        "        return self.name, self.ID, self.marks\n",
        "\n",
        "s1 = data()\n",
        "s1.setData()\n",
        "list1 = s1.getData()\n",
        "print(list1)"
      ],
      "execution_count": 14,
      "outputs": [
        {
          "output_type": "stream",
          "name": "stdout",
          "text": [
            "Enter the name of the student : ESHA\n",
            "Enter the USN of the student : 5677\n",
            "Enter the marks for subject 1 : 80\n",
            "Enter the marks for subject 2 : 90\n",
            "Enter the marks for subject 3 : 100\n",
            "Name :  ESHA\n",
            "USN :  5677\n",
            "Marks Subject 1 :  80\n",
            "Marks Subject 2 : 90\n",
            "Marks Subject 3 : 100\n",
            "('ESHA', 5677, ['80', '90', '100'])\n"
          ]
        }
      ]
    },
    {
      "cell_type": "code",
      "metadata": {
        "colab": {
          "base_uri": "https://localhost:8080/"
        },
        "id": "U8-QkcO_Ncqt",
        "outputId": "782af4f3-4d26-400a-9bc9-81d601aea831"
      },
      "source": [
        "class patient:\n",
        "\n",
        "  def __init__(self):\n",
        "    self.name = input(\"enter the patient's name: \")\n",
        "    self.date_admit = input(\"enter the date of admit as dd/mm/yyyy: \")\n",
        "    n = int(input(\"enter the number of symptoms: \"))\n",
        "    self.symptoms = []\n",
        "    for i in range(0, n):\n",
        "      sym = input(\"enter the symptom: \")\n",
        "      self.symptoms.append(sym)\n",
        "    self.oxygen_level = int(input(\"enter the oxygen level in percentage: \"))\n",
        "    self.date_discharge = input(\"enter the date of discharge as dd/mm/yyyy: \")\n",
        "    \n",
        "  def patientinfo(self):\n",
        "    print(\"\\n\\n\")\n",
        "    print(\"patient name is: \",self.name)\n",
        "    print(\"patient's date of admit is: \",self.date_admit)\n",
        "    print(\"patient's symptoms are: \",self.symptoms)\n",
        "    print(\"patient's oxygen level is: \",self.oxygen_level)\n",
        "    print(\"patient's date of discharge is: \",self.date_discharge)\n",
        "\n",
        "  def severity(self):\n",
        "    if self.oxygen_level < 90:\n",
        "      print(\"the person is in severe condition\")\n",
        "    else:\n",
        "      print(\"the person is not severe\")    \n",
        "\n",
        "c1=patient()\n",
        "c1.patient\n",
        "info()\n",
        "c1.severity()\n",
        "\n",
        "#c2=patient()\n",
        "#c2.patient_info()\n",
        "#c2.severity()\n"
      ],
      "execution_count": 19,
      "outputs": [
        {
          "output_type": "stream",
          "name": "stdout",
          "text": [
            "enter the patient's name: RIYA\n",
            "enter the date of admit as dd/mm/yyyy: 09/09/2020\n",
            "enter the number of symptoms: 3\n",
            "enter the symptom: COLD\n",
            "enter the symptom: HEADACHE\n",
            "enter the symptom: NAUSEA\n",
            "enter the oxygen level in percentage: 89\n",
            "enter the date of discharge as dd/mm/yyyy: 21/09/2020\n",
            "\n",
            "\n",
            "\n",
            "patient name is:  RIYA\n",
            "patient's date of admit is:  09/09/2020\n",
            "patient's symptoms are:  ['COLD', 'HEADACHE', 'NAUSEA']\n",
            "patient's oxygen level is:  89\n",
            "patient's date of discharge is:  21/09/2020\n",
            "the person is in severe condition\n"
          ]
        }
      ]
    },
    {
      "cell_type": "code",
      "metadata": {
        "colab": {
          "base_uri": "https://localhost:8080/"
        },
        "id": "74qY-V2GPpiG",
        "outputId": "38d3a943-e4ee-4e7b-c772-3d01316add73"
      },
      "source": [
        "class Time():\n",
        "    def __init__(self):\n",
        "        self.hours=0\n",
        "        self.minutes=0\n",
        "        self.seconds=0\n",
        "    def increase(self):\n",
        "        self.seconds=self.seconds+60\n",
        "        if(self.seconds%60==0):\n",
        "            self.minutes=self.minutes+1\n",
        "        if(self.minutes%60==0):\n",
        "            self.hours=self.hours+1\n",
        "    def display(self):\n",
        "        print(self.hours,\":\",self.minutes,\":\",self.seconds)\n",
        "timedata=Time()\n",
        "n=int(input(\"Enter wait time:\"))\n",
        "i=0\n",
        "while(i<n):\n",
        "    timedata.increase()\n",
        "    i+=1\n",
        "timedata.display()"
      ],
      "execution_count": 20,
      "outputs": [
        {
          "output_type": "stream",
          "name": "stdout",
          "text": [
            "Enter wait time:45\n",
            "0 : 45 : 2700\n"
          ]
        }
      ]
    },
    {
      "cell_type": "code",
      "metadata": {
        "colab": {
          "base_uri": "https://localhost:8080/"
        },
        "id": "2rMaaBgWQe_Z",
        "outputId": "b333a0f9-f8fb-42d9-e45e-c795455da04b"
      },
      "source": [
        "class studentdet():\n",
        "    def __init__(self,name,age,rollno):\n",
        "        self.name=name\n",
        "        self.age=age\n",
        "        self.rollno=rollno\n",
        "    def compare(self):\n",
        "        if(student1.age==student2.age):\n",
        "            print(\"They are of the same age\")\n",
        "        else:\n",
        "            print(\"They are not the same age\")\n",
        "\n",
        "\n",
        "student1=studentdet(\"Rahul\",21,33)\n",
        "student2=studentdet(\"Rohit\",22,74)\n",
        "student1.compare()"
      ],
      "execution_count": 21,
      "outputs": [
        {
          "output_type": "stream",
          "name": "stdout",
          "text": [
            "They are not the same age\n"
          ]
        }
      ]
    },
    {
      "cell_type": "code",
      "metadata": {
        "colab": {
          "base_uri": "https://localhost:8080/"
        },
        "id": "1b4jol5oRkYF",
        "outputId": "f1044e21-900d-4372-cfaf-abb4ee5ee963"
      },
      "source": [
        "class studentdet():\n",
        "    sem=3\n",
        "    institute=\"iiitdwd\"\n",
        "    def __init__(self,name,usn):\n",
        "        self.name=name\n",
        "        self.usn=usn\n",
        "\n",
        "    @classmethod\n",
        "    def displaydet(cls):\n",
        "        return cls.sem,cls.institute\n",
        "\n",
        "    @staticmethod\n",
        "    def show():\n",
        "        return \"Printed using static method\"\n",
        "\n",
        "    def display(self):\n",
        "        return self.name,self.usn\n",
        "\n",
        "a=input(\"Enter name:\")\n",
        "b=int(input(\"Enter USN:\"))\n",
        "student=studentdet(a,b)\n",
        "print(student.displaydet())\n",
        "print(student.display())\n",
        "print(student.show())"
      ],
      "execution_count": 25,
      "outputs": [
        {
          "output_type": "stream",
          "name": "stdout",
          "text": [
            "Enter name:ESHA\n",
            "Enter USN:456\n",
            "(3, 'iiitdwd')\n",
            "('ESHA', 456)\n",
            "Printed using static method\n"
          ]
        }
      ]
    },
    {
      "cell_type": "code",
      "metadata": {
        "colab": {
          "base_uri": "https://localhost:8080/"
        },
        "id": "gDeYg_3hUsCn",
        "outputId": "4fd78cdf-7ef0-48f5-fb3a-05f1928d3386"
      },
      "source": [
        "class student():\n",
        "    def __init__(self,name,rollno,sem):\n",
        "        self.name=name\n",
        "        self.rollno=rollno\n",
        "        self.sem=sem\n",
        "    def display(self):\n",
        "        return self.name,self.rollno,self.sem\n",
        "    class laptop():\n",
        "        def __init__(self,cpu,ram,harddisk,displaydet,os,manufacturer):\n",
        "            self.cpu=cpu\n",
        "            self.ram=ram\n",
        "            self.harddisk=harddisk\n",
        "            self.displaydet=displaydet\n",
        "            self.os=os\n",
        "            self.manufacturer=manufacturer\n",
        "        def show(self):\n",
        "            return self.cpu,self.ram,self.harddisk,self.displaydet,self.os,self.manufacturer\n",
        "a=input(\"Enter name:\")\n",
        "b=int(input(\"Enter roll number:\"))\n",
        "c=int(input(\"Enter sem:\"))\n",
        "studentdet=student(a,b,c)\n",
        "e=input(\"Enter processor name:\")\n",
        "f=int(input(\"Enter RAM space:\"))\n",
        "g=int(input(\"Enter storage space:\"))\n",
        "h=int(input(\"Enter display size:\"))\n",
        "i=input(\"Enter OS details:\")\n",
        "j=input(\"Enter manufacturer:\")\n",
        "laptopdet=studentdet.laptop(e,f,g,h,i,j)\n",
        "print(studentdet.display())\n",
        "print(laptopdet.show())"
      ],
      "execution_count": 28,
      "outputs": [
        {
          "output_type": "stream",
          "name": "stdout",
          "text": [
            "Enter name:ESHA\n",
            "Enter roll number:45\n",
            "Enter sem:3\n",
            "Enter processor name:intel i7\n",
            "Enter RAM space:16\n",
            "Enter storage space:32\n",
            "Enter display size:13\n",
            "Enter OS details:Windows 11\n",
            "Enter manufacturer:HP\n",
            "('ESHA', 45, 3)\n",
            "('intel i7', 16, 32, 13, 'Windows 11', 'HP')\n"
          ]
        }
      ]
    }
  ]
}