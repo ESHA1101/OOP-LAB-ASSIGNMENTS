{
  "nbformat": 4,
  "nbformat_minor": 0,
  "metadata": {
    "colab": {
      "name": "Lab Assignment-1.ipynb",
      "provenance": [],
      "authorship_tag": "ABX9TyOWxQx9lFzajT1bTRDaUvkq",
      "include_colab_link": true
    },
    "kernelspec": {
      "name": "python3",
      "display_name": "Python 3"
    },
    "language_info": {
      "name": "python"
    }
  },
  "cells": [
    {
      "cell_type": "markdown",
      "metadata": {
        "id": "view-in-github",
        "colab_type": "text"
      },
      "source": [
        "<a href=\"https://colab.research.google.com/github/ESHA1101/OOP-LAB-ASSIGNMENTS/blob/main/Lab_Assignment_1.ipynb\" target=\"_parent\"><img src=\"https://colab.research.google.com/assets/colab-badge.svg\" alt=\"Open In Colab\"/></a>"
      ]
    },
    {
      "cell_type": "code",
      "metadata": {
        "colab": {
          "base_uri": "https://localhost:8080/"
        },
        "id": "vfTRV_p5m3y8",
        "outputId": "4f55ae5b-eb81-43a9-9c32-122f578619f9"
      },
      "source": [
        " n=int(input('Mention the year:'))\n",
        " if (n%4==0):\n",
        "   if ((n%100)==0):\n",
        "     if ((n%400)==0):\n",
        "      print(bool((n%400)==0))\n",
        "     else:\n",
        "       print(bool(n%100))\n",
        "   else:\n",
        "    print(bool((n%4)==0))\n",
        " else:\n",
        "   print((n%4)==0)\n"
      ],
      "execution_count": null,
      "outputs": [
        {
          "output_type": "stream",
          "name": "stdout",
          "text": [
            "Mention the year:800\n",
            "True\n"
          ]
        }
      ]
    },
    {
      "cell_type": "code",
      "metadata": {
        "colab": {
          "base_uri": "https://localhost:8080/"
        },
        "id": "YrJt__Y5uTDh",
        "outputId": "adf64b28-280b-4e98-8bf6-cb4d207f26ad"
      },
      "source": [
        "n=int(input('Enter a number:'))\n",
        "if (n%2)==0:\n",
        "  if n in range(2,6):\n",
        "    print('Not weird')\n",
        "  elif n in range(6,21):\n",
        "    print('Weird')\n",
        "  else:\n",
        "    print('Not weird')\n",
        "else:\n",
        "  print('Weird')"
      ],
      "execution_count": null,
      "outputs": [
        {
          "output_type": "stream",
          "name": "stdout",
          "text": [
            "Enter a number:6\n",
            "Weird\n"
          ]
        }
      ]
    },
    {
      "cell_type": "code",
      "metadata": {
        "colab": {
          "base_uri": "https://localhost:8080/"
        },
        "id": "7hYj764gyvR7",
        "outputId": "59574a59-5162-45bd-9df7-05346212e5a7"
      },
      "source": [
        "list=[]\n",
        "n= int(input('Total number of guests:'))\n",
        "for i in range (0,n):\n",
        "  ele=input()\n",
        "  list.append(ele)\n",
        "p=input('Enter person:')\n",
        "if p in list[len(list)//2: -1]:\n",
        "    print(\"Fashionably late\")\n",
        "else:\n",
        "    print(\"Not Fashionably late\")\n"
      ],
      "execution_count": 94,
      "outputs": [
        {
          "output_type": "stream",
          "name": "stdout",
          "text": [
            "Total number of guests:5\n",
            "esha\n",
            "ajay\n",
            "diya\n",
            "aanya\n",
            "arun\n",
            "Enter person:diya\n",
            "Fashionably late\n"
          ]
        }
      ]
    },
    {
      "cell_type": "code",
      "metadata": {
        "id": "xpCcLgXAVwh8",
        "colab": {
          "base_uri": "https://localhost:8080/"
        },
        "outputId": "e4b89b5e-52d1-4641-830d-594210caa1d7"
      },
      "source": [
        "def Find(doc_list, word):\n",
        "  return_list = []\n",
        "  for sentence in doc_list:\n",
        "    copy = sentence.replace(\".\", \"\")\n",
        "    copy = copy.replace(\",\", \"\")\n",
        "    copy = copy.split(\" \")\n",
        "    if word in copy:\n",
        "      return_list.append(sentence)\n",
        "  return return_list\n",
        "\n",
        "doc_list = [\"Hi I'm Esha!\", \"I love singing\", \"IIIT Dharwad\", \"This is great!\"]\n",
        "word = str(input(\"Enter the word to search for: \"))\n",
        "for sentence in Find(doc_list, word):\n",
        "  print(sentence)"
      ],
      "execution_count": 100,
      "outputs": [
        {
          "output_type": "stream",
          "name": "stdout",
          "text": [
            "Enter the word to search for: This\n",
            "This is great!\n"
          ]
        }
      ]
    },
    {
      "cell_type": "code",
      "metadata": {
        "colab": {
          "base_uri": "https://localhost:8080/"
        },
        "id": "SK1us2Acm34o",
        "outputId": "70deaea9-5e5b-4594-d4cb-3daad8b2b74b"
      },
      "source": [
        "#DA = 40% of BP = 0.4*BP\n",
        "#HRA = 20% of BP = 0.2*BP\n",
        "#GP = BP + DA + HRA = BP + 0.2*BP + 0.4*BP = 1.6*BP\n",
        "def GP(BP):\n",
        "  return 1.6*BP\n",
        "BP=int(input('Enter the BP:'))\n",
        "print(GP(BP))"
      ],
      "execution_count": 101,
      "outputs": [
        {
          "output_type": "stream",
          "name": "stdout",
          "text": [
            "Enter the BP:10\n",
            "16.0\n"
          ]
        }
      ]
    }
  ]
}