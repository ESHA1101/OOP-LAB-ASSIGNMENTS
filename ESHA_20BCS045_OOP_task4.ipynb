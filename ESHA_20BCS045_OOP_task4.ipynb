{
  "nbformat": 4,
  "nbformat_minor": 0,
  "metadata": {
    "colab": {
      "name": "ESHA_20BCS045_OOP_task4.ipynb",
      "provenance": [],
      "authorship_tag": "ABX9TyMWGiubTzlWv0wwniiL9OIc",
      "include_colab_link": true
    },
    "kernelspec": {
      "name": "python3",
      "display_name": "Python 3"
    },
    "language_info": {
      "name": "python"
    }
  },
  "cells": [
    {
      "cell_type": "markdown",
      "metadata": {
        "id": "view-in-github",
        "colab_type": "text"
      },
      "source": [
        "<a href=\"https://colab.research.google.com/github/ESHA1101/OOP-LAB-ASSIGNMENTS/blob/main/ESHA_20BCS045_OOP_task4.ipynb\" target=\"_parent\"><img src=\"https://colab.research.google.com/assets/colab-badge.svg\" alt=\"Open In Colab\"/></a>"
      ]
    },
    {
      "cell_type": "code",
      "metadata": {
        "colab": {
          "base_uri": "https://localhost:8080/"
        },
        "id": "saQWo-_aQ-fE",
        "outputId": "bada232c-833e-42fc-f9e0-d232af17469f"
      },
      "source": [
        "#1\n",
        "class Node():\n",
        "    def __init__(self,size):\n",
        "        self.data=[]\n",
        "        self.size=size\n",
        "        self.address=[]\n",
        "class Stack(Node):\n",
        "    def __init__(self,length,value):\n",
        "        Node.__init__(self,length)\n",
        "        self.value=value\n",
        "        self.length=length\n",
        "    def push(self,value):\n",
        "        location=id(self.value)\n",
        "        self.address.append(location)\n",
        "        self.data.append(value)\n",
        "    def pop(self):\n",
        "        self.data.pop()\n",
        "        self.address.pop()\n",
        "        return self.data\n",
        "    def isempty(self):\n",
        "        if(self.data==[]):\n",
        "            print(\"Stack is empty\")\n",
        "        else:\n",
        "            print(\"Stack is not empty\")\n",
        "    def isfull(self):\n",
        "        if(self.data==self.length):\n",
        "            print(\"Stack is full\")\n",
        "        else:\n",
        "            print(\"Stack is not full\")\n",
        "\n",
        "    def display(self):\n",
        "        print(self.data)\n",
        "    def displayaddress(self):\n",
        "        print(self.address)\n",
        "    def __del__(self):\n",
        "        print(\"Stack object deleted successfully\")\n",
        "\n",
        "Stack1=Stack(4,15)\n",
        "Stack1.push(35)\n",
        "Stack1.push(28)\n",
        "Stack1.push(94)\n",
        "Stack1.push(86)\n",
        "Stack1.display()\n",
        "Stack1.pop()\n",
        "Stack1.display()\n",
        "Stack1.push(98)\n",
        "Stack1.isfull()\n",
        "Stack1.isempty()\n",
        "print(\"The address of the elements of the stack:\")\n",
        "Stack1.displayaddress()\n",
        "del Stack1"
      ],
      "execution_count": 1,
      "outputs": [
        {
          "output_type": "stream",
          "name": "stdout",
          "text": [
            "[35, 28, 94, 86]\n",
            "[35, 28, 94]\n",
            "Stack is not full\n",
            "Stack is not empty\n",
            "The address of the elements of the stack:\n",
            "[94465229880256, 94465229880256, 94465229880256, 94465229880256]\n",
            "Stack object deleted successfully\n"
          ]
        }
      ]
    },
    {
      "cell_type": "code",
      "metadata": {
        "colab": {
          "base_uri": "https://localhost:8080/"
        },
        "id": "-Wc03P7nRvvp",
        "outputId": "7718a226-c5f5-4404-a44f-84cb11b83993"
      },
      "source": [
        "#2\n",
        "class Area():\n",
        "    length=60 #Length is a default constructor\n",
        "    def __init__(self,breadth):\n",
        "        self.breadth=breadth #Breadth is a parametrized constructor\n",
        "    def RectangleArea(self):\n",
        "        return self.length*self.breadth\n",
        "Rectangle=Area(30)\n",
        "print(\"The area of the rectangle is:\",Rectangle.RectangleArea())"
      ],
      "execution_count": 2,
      "outputs": [
        {
          "output_type": "stream",
          "name": "stdout",
          "text": [
            "The area of the rectangle is: 1800\n"
          ]
        }
      ]
    },
    {
      "cell_type": "code",
      "metadata": {
        "colab": {
          "base_uri": "https://localhost:8080/"
        },
        "id": "spxXLtGySeIE",
        "outputId": "d41b1edc-332b-4d2f-86f3-73ef0911ccc7"
      },
      "source": [
        "#3\n",
        "class Queue():\n",
        "    def __init__(self,size):\n",
        "        self.queue=[]\n",
        "        self.size=size\n",
        "    def enqueue(self,data):\n",
        "        self.queue.insert(0,data)\n",
        "    def dequeue(self):\n",
        "        return self.queue.pop()\n",
        "    def isempty(self):\n",
        "        if(self.queue==[]):\n",
        "            print(\"Queue is empty\")\n",
        "        else:\n",
        "            print(\"Queue is not empty\")\n",
        "    def isfull(self):\n",
        "        if(len(self.queue)==self.size):\n",
        "            print(\"Queue is full\")\n",
        "        else:\n",
        "            print(\"Queue is not full\")\n",
        "    def display(self):\n",
        "        print(self.queue)\n",
        "    def __del__(self):\n",
        "        print(\"Queue Object Deleted successfully\")\n",
        "\n",
        "Queue1=Queue(32)\n",
        "Queue1.enqueue(54)\n",
        "Queue1.enqueue(67)\n",
        "Queue1.enqueue(90)\n",
        "Queue1.display()\n",
        "Queue1.enqueue(71)\n",
        "Queue1.enqueue(88)\n",
        "Queue1.dequeue()\n",
        "Queue1.display()\n",
        "Queue1.isfull()\n",
        "Queue1.isempty()\n",
        "del Queue1\n"
      ],
      "execution_count": 3,
      "outputs": [
        {
          "output_type": "stream",
          "name": "stdout",
          "text": [
            "[90, 67, 54]\n",
            "[88, 71, 90, 67]\n",
            "Queue is not full\n",
            "Queue is not empty\n",
            "Queue Object Deleted successfully\n"
          ]
        }
      ]
    }
  ]
}