{
  "nbformat": 4,
  "nbformat_minor": 0,
  "metadata": {
    "colab": {
      "name": "ESHA_20BCS045_OOP_Task5.ipynb",
      "provenance": [],
      "authorship_tag": "ABX9TyP3O2Scy5VcktIfHDz83I5r",
      "include_colab_link": true
    },
    "kernelspec": {
      "name": "python3",
      "display_name": "Python 3"
    },
    "language_info": {
      "name": "python"
    }
  },
  "cells": [
    {
      "cell_type": "markdown",
      "metadata": {
        "id": "view-in-github",
        "colab_type": "text"
      },
      "source": [
        "<a href=\"https://colab.research.google.com/github/ESHA1101/OOP-LAB-ASSIGNMENTS/blob/main/ESHA_20BCS045_OOP_Task5.ipynb\" target=\"_parent\"><img src=\"https://colab.research.google.com/assets/colab-badge.svg\" alt=\"Open In Colab\"/></a>"
      ]
    },
    {
      "cell_type": "code",
      "metadata": {
        "colab": {
          "base_uri": "https://localhost:8080/"
        },
        "id": "IsWsCQ4ba9P5",
        "outputId": "3e49b9b3-2ce9-4585-8d7f-9b2981e56644"
      },
      "source": [
        "#1\n",
        "from math import pi\n",
        "from abc import ABC, abstractmethod\n",
        "\n",
        "class Shape(ABC):\n",
        "  \n",
        "  @abstractmethod\n",
        "  def area():\n",
        "    pass\n",
        "\n",
        "class Circle(Shape):\n",
        "  def __init__(self, radius):\n",
        "    self.radius = radius\n",
        "\n",
        "  def area(self):\n",
        "    return pi*self.radius**2\n",
        "\n",
        "class Square(Shape):\n",
        "  def __init__(self, side):\n",
        "    self.length = side\n",
        "\n",
        "  def area(self):\n",
        "    return self.length**2\n",
        "\n",
        "class Rectangle(Shape):\n",
        "  def __init__(self, length, breadth):\n",
        "    self.l = length\n",
        "    self.b = breadth\n",
        "\n",
        "  def area(self):\n",
        "    return self.l*self.b\n",
        "\n",
        "C = Circle(6)\n",
        "S = Square(7)\n",
        "R = Rectangle(8, 6)\n",
        "\n",
        "print(C.area())\n",
        "print(S.area())\n",
        "print(R.area())"
      ],
      "execution_count": 1,
      "outputs": [
        {
          "output_type": "stream",
          "name": "stdout",
          "text": [
            "113.09733552923255\n",
            "49\n",
            "48\n"
          ]
        }
      ]
    },
    {
      "cell_type": "code",
      "metadata": {
        "colab": {
          "base_uri": "https://localhost:8080/"
        },
        "id": "cn75jxTqbNYp",
        "outputId": "c6ce8556-bd4c-41f6-cf1b-af97bcf10e5c"
      },
      "source": [
        "#2\n",
        "from abc import ABC, abstractmethod\n",
        "\n",
        "class Travel():\n",
        "  def __init__(self, num_pass, dist, mode):\n",
        "    self.__number = num_pass\n",
        "    self.dist = dist\n",
        "    self.mode = mode\n",
        "\n",
        "  def access_num(self):\n",
        "    return self.__number\n",
        "\n",
        "  @abstractmethod\n",
        "  def calculate_cost(self):\n",
        "    pass\n",
        "\n",
        "class Train(Travel):\n",
        "  def __init__(self, num_pass, dist, mode):\n",
        "    super().__init__(num_pass, dist, mode)\n",
        "\n",
        "  def calculate_cost(self):\n",
        "    return 60*self.access_num()\n",
        "\n",
        "\n",
        "class Bus(Travel):\n",
        "  def __init__(self, num_pass, dist, mode):\n",
        "    super().__init__(num_pass, dist, mode)\n",
        "\n",
        "  def calculate_cost(self):\n",
        "    return 100*self.access_num()\n",
        "\n",
        "A = Train(10, 20, \"Tracks\")\n",
        "print(A.calculate_cost())\n",
        "\n",
        "B = Bus(10, 20, \"Road\")\n",
        "print(B.calculate_cost())"
      ],
      "execution_count": 2,
      "outputs": [
        {
          "output_type": "stream",
          "name": "stdout",
          "text": [
            "600\n",
            "1000\n"
          ]
        }
      ]
    },
    {
      "cell_type": "code",
      "metadata": {
        "colab": {
          "base_uri": "https://localhost:8080/"
        },
        "id": "XMuOpUqSbVSV",
        "outputId": "fe531083-9a2d-41dd-940c-c5beae5140f7"
      },
      "source": [
        "#3\n",
        "class Car:\n",
        "  def __init__(self, model):\n",
        "    self.model = model\n",
        "\n",
        "  def get_model(self):\n",
        "    return self.model\n",
        "\n",
        "c1 = Car(5)\n",
        "c2 = Car(6)\n",
        "\n",
        "c2.model, c1.model = c1.get_model(), c2.get_model()\n",
        "\n",
        "print(c1.model, c2.model)"
      ],
      "execution_count": 3,
      "outputs": [
        {
          "output_type": "stream",
          "name": "stdout",
          "text": [
            "6 5\n"
          ]
        }
      ]
    }
  ]
}